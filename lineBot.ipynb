{
 "cells": [
  {
   "cell_type": "code",
   "execution_count": 1,
   "id": "d8ec5dcd-9734-4f7d-bdd9-be9b28b21e97",
   "metadata": {},
   "outputs": [
    {
     "name": "stdout",
     "output_type": "stream",
     "text": [
      "Requirement already satisfied: line-bot-sdk in c:\\users\\yahas\\anaconda3\\lib\\site-packages (2.4.2)\n",
      "Requirement already satisfied: aiohttp==3.8.4 in c:\\users\\yahas\\anaconda3\\lib\\site-packages (from line-bot-sdk) (3.8.4)\n",
      "Requirement already satisfied: future in c:\\users\\yahas\\anaconda3\\lib\\site-packages (from line-bot-sdk) (0.18.3)\n",
      "Requirement already satisfied: requests==2.28.2 in c:\\users\\yahas\\anaconda3\\lib\\site-packages (from line-bot-sdk) (2.28.2)\n",
      "Requirement already satisfied: charset-normalizer<4.0,>=2.0 in c:\\users\\yahas\\anaconda3\\lib\\site-packages (from aiohttp==3.8.4->line-bot-sdk) (2.0.4)\n",
      "Requirement already satisfied: multidict<7.0,>=4.5 in c:\\users\\yahas\\anaconda3\\lib\\site-packages (from aiohttp==3.8.4->line-bot-sdk) (6.0.4)\n",
      "Requirement already satisfied: yarl<2.0,>=1.0 in c:\\users\\yahas\\anaconda3\\lib\\site-packages (from aiohttp==3.8.4->line-bot-sdk) (1.8.2)\n",
      "Requirement already satisfied: aiosignal>=1.1.2 in c:\\users\\yahas\\anaconda3\\lib\\site-packages (from aiohttp==3.8.4->line-bot-sdk) (1.3.1)\n",
      "Requirement already satisfied: async-timeout<5.0,>=4.0.0a3 in c:\\users\\yahas\\anaconda3\\lib\\site-packages (from aiohttp==3.8.4->line-bot-sdk) (4.0.2)\n",
      "Requirement already satisfied: attrs>=17.3.0 in c:\\users\\yahas\\anaconda3\\lib\\site-packages (from aiohttp==3.8.4->line-bot-sdk) (22.1.0)\n",
      "Requirement already satisfied: frozenlist>=1.1.1 in c:\\users\\yahas\\anaconda3\\lib\\site-packages (from aiohttp==3.8.4->line-bot-sdk) (1.3.3)\n",
      "Requirement already satisfied: certifi>=2017.4.17 in c:\\users\\yahas\\anaconda3\\lib\\site-packages (from requests==2.28.2->line-bot-sdk) (2022.12.7)\n",
      "Requirement already satisfied: idna<4,>=2.5 in c:\\users\\yahas\\anaconda3\\lib\\site-packages (from requests==2.28.2->line-bot-sdk) (3.4)\n",
      "Requirement already satisfied: urllib3<1.27,>=1.21.1 in c:\\users\\yahas\\anaconda3\\lib\\site-packages (from requests==2.28.2->line-bot-sdk) (1.26.14)\n"
     ]
    }
   ],
   "source": [
    "!pip install line-bot-sdk"
   ]
  },
  {
   "cell_type": "code",
   "execution_count": 2,
   "id": "2c086121-00a5-46d1-b291-127fe365ac79",
   "metadata": {},
   "outputs": [],
   "source": [
    "import json"
   ]
  },
  {
   "cell_type": "code",
   "execution_count": 3,
   "id": "4695f9b5-6b5b-4034-8674-e5cfce9e4bbe",
   "metadata": {},
   "outputs": [
    {
     "ename": "SyntaxError",
     "evalue": "unterminated string literal (detected at line 1) (3252089915.py, line 1)",
     "output_type": "error",
     "traceback": [
      "\u001b[1;36m  Cell \u001b[1;32mIn[3], line 1\u001b[1;36m\u001b[0m\n\u001b[1;33m    open('info.json,'r')\u001b[0m\n\u001b[1;37m                     ^\u001b[0m\n\u001b[1;31mSyntaxError\u001b[0m\u001b[1;31m:\u001b[0m unterminated string literal (detected at line 1)\n"
     ]
    }
   ],
   "source": [
    "open('info.json,'r')"
   ]
  },
  {
   "cell_type": "code",
   "execution_count": 4,
   "id": "f0478b84-081b-44ba-a379-c6ec77ed6fc8",
   "metadata": {},
   "outputs": [
    {
     "data": {
      "text/plain": [
       "<_io.TextIOWrapper name='info.json' mode='r' encoding='cp932'>"
      ]
     },
     "execution_count": 4,
     "metadata": {},
     "output_type": "execute_result"
    }
   ],
   "source": [
    "open('info.json','r')"
   ]
  },
  {
   "cell_type": "code",
   "execution_count": 9,
   "id": "d365951d-6f4d-49ed-8002-3377f4e6af65",
   "metadata": {},
   "outputs": [],
   "source": [
    "file = open('info.json','r')\n",
    "info = json.load(file)"
   ]
  },
  {
   "cell_type": "code",
   "execution_count": 12,
   "id": "57ee9cd2-4470-4324-9831-f2aca3f35994",
   "metadata": {},
   "outputs": [
    {
     "data": {
      "text/plain": [
       "'4qxFhsZ3a0pGs6gB0Jz/ho4gxioD6ZJHehSKfrdbW9xF5UjkDLH94Rjv1chTCpYewIQG5/+9AsetyiU0cZZ/KhGtFIQ27sQgw7k2AMarVeeZtmgOMPvTQqvk389o/X/mfxwEq1qsizEG9z5mEnAK7wdB04t89/1O/w1cDnyilFU='"
      ]
     },
     "execution_count": 12,
     "metadata": {},
     "output_type": "execute_result"
    }
   ],
   "source": [
    "info['CHANNEL_ACCESS_TOKEN']"
   ]
  },
  {
   "cell_type": "code",
   "execution_count": 14,
   "id": "18da3291-4cbe-4128-963a-a563bc8b71fd",
   "metadata": {},
   "outputs": [],
   "source": [
    "from linebot import LineBotApi\n",
    "from linebot.models import TextSendMessage"
   ]
  },
  {
   "cell_type": "code",
   "execution_count": 15,
   "id": "808dbb51-72e0-4706-90b0-73674a14265e",
   "metadata": {},
   "outputs": [],
   "source": [
    "CHANNEL_ACCESS_TOKEN = info['CHANNEL_ACCESS_TOKEN']\n",
    "line_bot_api = LineBotApi(CHANNEL_ACCESS_TOKEN)"
   ]
  },
  {
   "cell_type": "code",
   "execution_count": 20,
   "id": "dc41154a-2804-4764-be2f-fbf509d92a57",
   "metadata": {},
   "outputs": [],
   "source": [
    "def main():\n",
    "    USER_ID = info['USER_ID']\n",
    "    messages = TextSendMessage(text = \"こんにちは\\n Pythonで送信してます\")\n",
    "    line_bot_api.push_message(USER_ID,messages = messages)\n",
    "    \n",
    "if __name__ == \"__main__\":\n",
    "    main()"
   ]
  },
  {
   "cell_type": "code",
   "execution_count": 1,
   "id": "a03ae59a-706a-45d7-8588-71d8f8f6695b",
   "metadata": {},
   "outputs": [
    {
     "ename": "NameError",
     "evalue": "name 'tenki_data' is not defined",
     "output_type": "error",
     "traceback": [
      "\u001b[1;31m---------------------------------------------------------------------------\u001b[0m",
      "\u001b[1;31mNameError\u001b[0m                                 Traceback (most recent call last)",
      "Cell \u001b[1;32mIn[1], line 1\u001b[0m\n\u001b[1;32m----> 1\u001b[0m \u001b[38;5;28mprint\u001b[39m(\u001b[43mtenki_data\u001b[49m[\u001b[38;5;124m\"\u001b[39m\u001b[38;5;124mdate\u001b[39m\u001b[38;5;124m\"\u001b[39m])\n",
      "\u001b[1;31mNameError\u001b[0m: name 'tenki_data' is not defined"
     ]
    }
   ],
   "source": [
    "print(tenki_data[\"date\"])"
   ]
  },
  {
   "cell_type": "code",
   "execution_count": 2,
   "id": "4fc7012c-6705-4b2d-9511-6dc1d60741bc",
   "metadata": {},
   "outputs": [],
   "source": [
    "import requests"
   ]
  },
  {
   "cell_type": "code",
   "execution_count": 3,
   "id": "72cf055a-afd6-404d-80dd-824045edc1ef",
   "metadata": {},
   "outputs": [
    {
     "ename": "NameError",
     "evalue": "name 'tenki_data' is not defined",
     "output_type": "error",
     "traceback": [
      "\u001b[1;31m---------------------------------------------------------------------------\u001b[0m",
      "\u001b[1;31mNameError\u001b[0m                                 Traceback (most recent call last)",
      "Cell \u001b[1;32mIn[3], line 1\u001b[0m\n\u001b[1;32m----> 1\u001b[0m \u001b[38;5;28mprint\u001b[39m(\u001b[43mtenki_data\u001b[49m[\u001b[38;5;124m\"\u001b[39m\u001b[38;5;124mdate\u001b[39m\u001b[38;5;124m\"\u001b[39m])\n",
      "\u001b[1;31mNameError\u001b[0m: name 'tenki_data' is not defined"
     ]
    }
   ],
   "source": [
    "print(tenki_data[\"date\"])"
   ]
  },
  {
   "cell_type": "code",
   "execution_count": 4,
   "id": "7910de0e-be85-44f7-8cc2-7de444cc59cc",
   "metadata": {},
   "outputs": [
    {
     "name": "stdout",
     "output_type": "stream",
     "text": [
      "{'publicTime': '2023-04-21T17:00:00+09:00', 'publicTimeFormatted': '2023/04/21 17:00:00', 'publishingOffice': '銚子地方気象台', 'title': '千葉県 千葉 の天気', 'link': 'https://www.jma.go.jp/bosai/forecast/#area_type=offices&area_code=120000', 'description': {'publicTime': '2023-04-21T16:39:00+09:00', 'publicTimeFormatted': '2023/04/21 16:39:00', 'headlineText': '', 'bodyText': '\\u3000華北に中心を持つ高気圧が本州付近に張り出していますが、関東甲信地方は気圧の谷の影響を受けています。また、前線を伴った低気圧が伊豆諸島の東を東北東へ進んでいます。\\n\\n\\u3000千葉県は、曇りとなっています。\\n\\n\\u3000２１日は、高気圧に覆われますが、気圧の谷や湿った空気の影響を受けるため、曇りでしょう。\\n\\n\\u3000２２日は、高気圧に覆われますが、気圧の谷や湿った空気の影響を受けるため、曇りで昼過ぎから晴れる見込みです。\\n\\n\\u3000千葉県の太平洋沿岸の海上では、２１日は、波がやや高いでしょう。２２日は、波が高い見込みです。船舶は高波に注意してください。', 'text': '\\u3000華北に中心を持つ高気圧が本州付近に張り出していますが、関東甲信地方は気圧の谷の影響を受けています。また、前線を伴った低気圧が伊豆諸島の東を東北東へ進んでいます。\\n\\n\\u3000千葉県は、曇りとなっています。\\n\\n\\u3000２１日は、高気圧に覆われますが、気圧の谷や湿った空気の影響を受けるため、曇りでしょう。\\n\\n\\u3000２２日は、高気圧に覆われますが、気圧の谷や湿った空気の影響を受けるため、曇りで昼過ぎから晴れる見込みです。\\n\\n\\u3000千葉県の太平洋沿岸の海上では、２１日は、波がやや高いでしょう。２２日は、波が高い見込みです。船舶は高波に注意してください。'}, 'forecasts': [{'date': '2023-04-21', 'dateLabel': '今日', 'telop': '曇り', 'detail': {'weather': 'くもり', 'wind': '東の風\\u3000後\\u3000北東の風', 'wave': '０．５メートル'}, 'temperature': {'min': {'celsius': None, 'fahrenheit': None}, 'max': {'celsius': None, 'fahrenheit': None}}, 'chanceOfRain': {'T00_06': '--%', 'T06_12': '--%', 'T12_18': '--%', 'T18_24': '20%'}, 'image': {'title': '曇り', 'url': 'https://www.jma.go.jp/bosai/forecast/img/200.svg', 'width': 80, 'height': 60}}, {'date': '2023-04-22', 'dateLabel': '明日', 'telop': '曇のち晴', 'detail': {'weather': 'くもり\\u3000昼前\\u3000から\\u3000晴れ', 'wind': '北の風\\u3000やや強く', 'wave': '１．５メートル\\u3000後\\u3000０．５メートル'}, 'temperature': {'min': {'celsius': '14', 'fahrenheit': '57.2'}, 'max': {'celsius': '21', 'fahrenheit': '69.8'}}, 'chanceOfRain': {'T00_06': '10%', 'T06_12': '10%', 'T12_18': '0%', 'T18_24': '0%'}, 'image': {'title': '曇のち晴', 'url': 'https://www.jma.go.jp/bosai/forecast/img/210.svg', 'width': 80, 'height': 60}}, {'date': '2023-04-23', 'dateLabel': '明後日', 'telop': '晴時々曇', 'detail': {'weather': '晴れ\\u3000時々\\u3000くもり', 'wind': '北の風\\u3000後\\u3000南の風', 'wave': '０．５メートル'}, 'temperature': {'min': {'celsius': '10', 'fahrenheit': '50'}, 'max': {'celsius': '16', 'fahrenheit': '60.8'}}, 'chanceOfRain': {'T00_06': '20%', 'T06_12': '20%', 'T12_18': '20%', 'T18_24': '20%'}, 'image': {'title': '晴時々曇', 'url': 'https://www.jma.go.jp/bosai/forecast/img/101.svg', 'width': 80, 'height': 60}}], 'location': {'area': '関東', 'prefecture': '千葉県', 'district': '北西部', 'city': '千葉'}, 'copyright': {'title': '(C) 天気予報 API（livedoor 天気互換）', 'link': 'https://weather.tsukumijima.net/', 'image': {'title': '天気予報 API（livedoor 天気互換）', 'link': 'https://weather.tsukumijima.net/', 'url': 'https://weather.tsukumijima.net/logo.png', 'width': 120, 'height': 120}, 'provider': [{'link': 'https://www.jma.go.jp/jma/', 'name': '気象庁 Japan Meteorological Agency', 'note': '気象庁 HP にて配信されている天気予報を JSON データへ編集しています。'}]}}\n"
     ]
    }
   ],
   "source": [
    "import requests\n",
    "\n",
    "\n",
    "#-----------------------天気関係\n",
    "url = \"https://weather.tsukumijima.net/api/forecast/city/120010\"\n",
    "payload = {\"city\":\"120010\"}\n",
    "tenki_data = requests.get(url, params=payload).json() \n",
    "\n",
    "#print(tenki_data)      --すべてのデータがjson形式で出力される\n",
    "\n",
    "#タイトル(県名出力)\n",
    "print(tenki_data)"
   ]
  },
  {
   "cell_type": "code",
   "execution_count": null,
   "id": "e9a8ec45-4fe7-4b2f-961b-c8a35cfbb3c5",
   "metadata": {},
   "outputs": [],
   "source": []
  }
 ],
 "metadata": {
  "kernelspec": {
   "display_name": "Python 3 (ipykernel)",
   "language": "python",
   "name": "python3"
  },
  "language_info": {
   "codemirror_mode": {
    "name": "ipython",
    "version": 3
   },
   "file_extension": ".py",
   "mimetype": "text/x-python",
   "name": "python",
   "nbconvert_exporter": "python",
   "pygments_lexer": "ipython3",
   "version": "3.10.9"
  }
 },
 "nbformat": 4,
 "nbformat_minor": 5
}
